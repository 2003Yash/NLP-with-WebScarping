{
  "nbformat": 4,
  "nbformat_minor": 0,
  "metadata": {
    "colab": {
      "provenance": [],
      "authorship_tag": "ABX9TyP4aJIKxh1+NLw/lv3Tanfi",
      "include_colab_link": true
    },
    "kernelspec": {
      "name": "python3",
      "display_name": "Python 3"
    },
    "language_info": {
      "name": "python"
    }
  },
  "cells": [
    {
      "cell_type": "markdown",
      "metadata": {
        "id": "view-in-github",
        "colab_type": "text"
      },
      "source": [
        "<a href=\"https://colab.research.google.com/github/2003Yash/NLP-with-WebScarping/blob/main/Webscraping_and_NLP_and_SQL.ipynb\" target=\"_parent\"><img src=\"https://colab.research.google.com/assets/colab-badge.svg\" alt=\"Open In Colab\"/></a>"
      ]
    },
    {
      "cell_type": "code",
      "execution_count": null,
      "metadata": {
        "colab": {
          "base_uri": "https://localhost:8080/"
        },
        "id": "_UUr4voUHWXd",
        "outputId": "c31c3f75-bc1b-4305-b123-35bcc6c6eea3"
      },
      "outputs": [
        {
          "output_type": "stream",
          "name": "stdout",
          "text": [
            "Collecting feedparser\n",
            "  Downloading feedparser-6.0.11-py3-none-any.whl.metadata (2.4 kB)\n",
            "Requirement already satisfied: pandas in /usr/local/lib/python3.10/dist-packages (2.2.2)\n",
            "Requirement already satisfied: sqlalchemy in /usr/local/lib/python3.10/dist-packages (2.0.35)\n",
            "Requirement already satisfied: huggingface_hub in /usr/local/lib/python3.10/dist-packages (0.24.7)\n",
            "Requirement already satisfied: transformers in /usr/local/lib/python3.10/dist-packages (4.44.2)\n",
            "Collecting sgmllib3k (from feedparser)\n",
            "  Downloading sgmllib3k-1.0.0.tar.gz (5.8 kB)\n",
            "  Preparing metadata (setup.py) ... \u001b[?25l\u001b[?25hdone\n",
            "Requirement already satisfied: numpy>=1.22.4 in /usr/local/lib/python3.10/dist-packages (from pandas) (1.26.4)\n",
            "Requirement already satisfied: python-dateutil>=2.8.2 in /usr/local/lib/python3.10/dist-packages (from pandas) (2.8.2)\n",
            "Requirement already satisfied: pytz>=2020.1 in /usr/local/lib/python3.10/dist-packages (from pandas) (2024.2)\n",
            "Requirement already satisfied: tzdata>=2022.7 in /usr/local/lib/python3.10/dist-packages (from pandas) (2024.2)\n",
            "Requirement already satisfied: typing-extensions>=4.6.0 in /usr/local/lib/python3.10/dist-packages (from sqlalchemy) (4.12.2)\n",
            "Requirement already satisfied: greenlet!=0.4.17 in /usr/local/lib/python3.10/dist-packages (from sqlalchemy) (3.1.1)\n",
            "Requirement already satisfied: filelock in /usr/local/lib/python3.10/dist-packages (from huggingface_hub) (3.16.1)\n",
            "Requirement already satisfied: fsspec>=2023.5.0 in /usr/local/lib/python3.10/dist-packages (from huggingface_hub) (2024.6.1)\n",
            "Requirement already satisfied: packaging>=20.9 in /usr/local/lib/python3.10/dist-packages (from huggingface_hub) (24.1)\n",
            "Requirement already satisfied: pyyaml>=5.1 in /usr/local/lib/python3.10/dist-packages (from huggingface_hub) (6.0.2)\n",
            "Requirement already satisfied: requests in /usr/local/lib/python3.10/dist-packages (from huggingface_hub) (2.32.3)\n",
            "Requirement already satisfied: tqdm>=4.42.1 in /usr/local/lib/python3.10/dist-packages (from huggingface_hub) (4.66.5)\n",
            "Requirement already satisfied: regex!=2019.12.17 in /usr/local/lib/python3.10/dist-packages (from transformers) (2024.9.11)\n",
            "Requirement already satisfied: safetensors>=0.4.1 in /usr/local/lib/python3.10/dist-packages (from transformers) (0.4.5)\n",
            "Requirement already satisfied: tokenizers<0.20,>=0.19 in /usr/local/lib/python3.10/dist-packages (from transformers) (0.19.1)\n",
            "Requirement already satisfied: six>=1.5 in /usr/local/lib/python3.10/dist-packages (from python-dateutil>=2.8.2->pandas) (1.16.0)\n",
            "Requirement already satisfied: charset-normalizer<4,>=2 in /usr/local/lib/python3.10/dist-packages (from requests->huggingface_hub) (3.3.2)\n",
            "Requirement already satisfied: idna<4,>=2.5 in /usr/local/lib/python3.10/dist-packages (from requests->huggingface_hub) (3.10)\n",
            "Requirement already satisfied: urllib3<3,>=1.21.1 in /usr/local/lib/python3.10/dist-packages (from requests->huggingface_hub) (2.2.3)\n",
            "Requirement already satisfied: certifi>=2017.4.17 in /usr/local/lib/python3.10/dist-packages (from requests->huggingface_hub) (2024.8.30)\n",
            "Downloading feedparser-6.0.11-py3-none-any.whl (81 kB)\n",
            "\u001b[2K   \u001b[90m━━━━━━━━━━━━━━━━━━━━━━━━━━━━━━━━━━━━━━━━\u001b[0m \u001b[32m81.3/81.3 kB\u001b[0m \u001b[31m1.7 MB/s\u001b[0m eta \u001b[36m0:00:00\u001b[0m\n",
            "\u001b[?25hBuilding wheels for collected packages: sgmllib3k\n",
            "  Building wheel for sgmllib3k (setup.py) ... \u001b[?25l\u001b[?25hdone\n",
            "  Created wheel for sgmllib3k: filename=sgmllib3k-1.0.0-py3-none-any.whl size=6047 sha256=8c9716c9e827de99a91e140f504b34d3de88e63823b9ba10b1fa5bf3eaebbe52\n",
            "  Stored in directory: /root/.cache/pip/wheels/f0/69/93/a47e9d621be168e9e33c7ce60524393c0b92ae83cf6c6e89c5\n",
            "Successfully built sgmllib3k\n",
            "Installing collected packages: sgmllib3k, feedparser\n",
            "Successfully installed feedparser-6.0.11 sgmllib3k-1.0.0\n"
          ]
        }
      ],
      "source": [
        "!pip install feedparser pandas sqlalchemy huggingface_hub transformers"
      ]
    },
    {
      "cell_type": "code",
      "source": [
        "import feedparser\n",
        "# feedparser is a Python library used to parse RSS and Atom feeds to parse ie., (extracting and interpreting)\n",
        "# RSS (Really Simple Syndication) is a type of web feed that provides users with a simple way to get content updates from blogs, news websites, or other regularly updated sites.\n",
        "import pandas as pd\n",
        "from datetime import datetime\n",
        "\n",
        "# Define RSS feed URLs ie.., these link has news article but in xml form\n",
        "feeds = [\n",
        "    \"http://rss.cnn.com/rss/cnn_topstories.rss\",\n",
        "    \"http://qz.com/feed\",\n",
        "    \"http://feeds.foxnews.com/foxnews/politics\",\n",
        "    \"http://feeds.reuters.com/reuters/businessNews\",\n",
        "    \"http://feeds.feedburner.com/NewshourWorld\",\n",
        "    \"https://feeds.bbci.co.uk/news/world/asia/india/rss.xml\"\n",
        "]"
      ],
      "metadata": {
        "id": "nry4YPoqHdQG"
      },
      "execution_count": null,
      "outputs": []
    },
    {
      "cell_type": "markdown",
      "source": [
        "Web Scraping News Articles"
      ],
      "metadata": {
        "id": "TIYc3r2LH1ug"
      }
    },
    {
      "cell_type": "code",
      "source": [
        "# Function to parse the RSS feeds and return a list of news articles\n",
        "def parse_rss(feeds):\n",
        "    articles = []\n",
        "    for feed in feeds:\n",
        "        parsed_feed = feedparser.parse(feed)\n",
        "        for entry in parsed_feed.entries:\n",
        "            articles.append({\n",
        "                'title': entry.title,\n",
        "                'link': entry.link,\n",
        "                'pub_date': entry.get('published', datetime.now())\n",
        "            })\n",
        "    return articles"
      ],
      "metadata": {
        "id": "24UTuNpZHoRf"
      },
      "execution_count": null,
      "outputs": []
    },
    {
      "cell_type": "code",
      "source": [
        "# Scrape articles and store them in a CSV file\n",
        "articles = parse_rss(feeds)\n",
        "df = pd.DataFrame(articles)\n",
        "df.to_csv('news_articles.csv', index=False)\n",
        "print(\"Scraped articles have been saved to news_articles.csv\")"
      ],
      "metadata": {
        "colab": {
          "base_uri": "https://localhost:8080/"
        },
        "id": "g5Tpy-wMHpuf",
        "outputId": "99e49783-296d-46b9-eafe-d62fe1d80c4e"
      },
      "execution_count": null,
      "outputs": [
        {
          "output_type": "stream",
          "name": "stdout",
          "text": [
            "Scraped articles have been saved to news_articles.csv\n"
          ]
        }
      ]
    },
    {
      "cell_type": "markdown",
      "source": [
        " Design a Database Schema to Store News Articles"
      ],
      "metadata": {
        "id": "mGnnkg0eHwsL"
      }
    },
    {
      "cell_type": "code",
      "source": [
        "from sqlalchemy import create_engine, Column, Integer, String, DateTime, UniqueConstraint # sql alchemy converts sql sb into python objects to make work with python easily\n",
        "# create_engine: This function is used to create a new SQLAlchemy engine instance, which manages connections to the database.\n",
        "from sqlalchemy.ext.declarative import declarative_base\n",
        "# declarative_base: A factory function that constructs a base class for declarative class definitions.\n",
        "# creates a base class that your SQLAlchemy models inherit from. This allows you to define your database tables and their relationships using Python classes in a clear and concise way.\n",
        "from sqlalchemy.orm import sessionmaker\n",
        "# create session to establish connection between an application server and a database server to enable communication and data retrieval.\n",
        "from datetime import datetime\n",
        " # library in Python handles dates and times, providing classes for manipulation, formatting, and arithmetic on date-time objects.\n",
        "\n",
        "\n",
        "# Database setup\n",
        "Base = declarative_base()\n",
        "DATABASE_URL = \"sqlite:///news_articles.db\"\n",
        "engine = create_engine(DATABASE_URL)\n",
        "# Creates a database engine that will manage connections to the SQLite database specified in the DATABASE_URL\n",
        "Session = sessionmaker(bind=engine)\n",
        "# Binds a session factory to the engine, allowing you to create new sessions that will be used to interact with the database\n",
        "session = Session() #  Instantiates a new session object, which is used to execute database operations"
      ],
      "metadata": {
        "colab": {
          "base_uri": "https://localhost:8080/"
        },
        "id": "Mamw1rj7H58r",
        "outputId": "bded807c-cbc0-476e-a105-308a047a0dea"
      },
      "execution_count": null,
      "outputs": [
        {
          "output_type": "stream",
          "name": "stderr",
          "text": [
            "<ipython-input-6-67114b19f6ae>:7: MovedIn20Warning: The ``declarative_base()`` function is now available as sqlalchemy.orm.declarative_base(). (deprecated since: 2.0) (Background on SQLAlchemy 2.0 at: https://sqlalche.me/e/b8d9)\n",
            "  Base = declarative_base()\n"
          ]
        }
      ]
    },
    {
      "cell_type": "code",
      "source": [
        "# we don't pair database url with table since we are creating the table inside the database url\n",
        "\n",
        "# Define the NewsArticle schema\n",
        "class NewsArticle(Base):\n",
        "    __tablename__ = 'news_articles'\n",
        "\n",
        "    id = Column(Integer, primary_key=True, autoincrement=True)\n",
        "    title = Column(String, nullable=False)\n",
        "    link = Column(String, nullable=False, unique=True)\n",
        "    pub_date = Column(DateTime, nullable=True)\n",
        "    added_date = Column(DateTime, default=datetime.utcnow)\n",
        "    category = Column(String, nullable=True)  # For classification later\n",
        "\n",
        "    __table_args__ = (UniqueConstraint('link', name='unique_link_constraint'),)\n",
        "#  _table_arges_ = This is a special attribute used to specify additional constraints for the table. Here, a unique constraint is created for the link column to ensure that each link is unique."
      ],
      "metadata": {
        "id": "6iK1eKOJKlQ6"
      },
      "execution_count": null,
      "outputs": []
    },
    {
      "cell_type": "markdown",
      "source": [
        "Create the table"
      ],
      "metadata": {
        "id": "AXCBgOl5KqmV"
      }
    },
    {
      "cell_type": "code",
      "source": [
        "Base.metadata.create_all(engine)"
      ],
      "metadata": {
        "id": "3GJT2jqSK8Dc"
      },
      "execution_count": null,
      "outputs": []
    },
    {
      "cell_type": "code",
      "source": [
        "# Function to add articles to the database without duplicates\n",
        "def add_articles_to_db(articles):\n",
        "  # create a list of all information from particles as articles and push articles into database.\n",
        "    for article in articles:\n",
        "        new_article = NewsArticle(\n",
        "            title=article['title'],\n",
        "            link=article['link'],\n",
        "            pub_date=article['pub_date']\n",
        "        )\n",
        "        try:\n",
        "            session.add(new_article) # Adds the new article instance to the current session.\n",
        "            session.commit()  # Commits the changes to the database.\n",
        "        except:\n",
        "            session.rollback()  # Handle duplicates (existing link)"
      ],
      "metadata": {
        "id": "JwWbRvkSK1yw"
      },
      "execution_count": null,
      "outputs": []
    },
    {
      "cell_type": "code",
      "source": [
        "# Insert articles into the database\n",
        "add_articles_to_db(articles)\n",
        "print(\"Articles have been stored in the database.\")"
      ],
      "metadata": {
        "colab": {
          "base_uri": "https://localhost:8080/"
        },
        "id": "euNlIFVRK9K0",
        "outputId": "0bbc74d2-1c37-468f-b63b-a6148bdbde4d"
      },
      "execution_count": null,
      "outputs": [
        {
          "output_type": "stream",
          "name": "stdout",
          "text": [
            "Articles have been stored in the database.\n"
          ]
        }
      ]
    },
    {
      "cell_type": "markdown",
      "source": [
        "Explicit Optional - Duplicacy check"
      ],
      "metadata": {
        "id": "_jz363LkMiGK"
      }
    },
    {
      "cell_type": "code",
      "source": [
        "from sqlalchemy import func\n",
        "\n",
        "# Function to remove duplicate articles based on the 'link'\n",
        "def remove_duplicate_articles():\n",
        "    # Find all duplicate links by counting occurrences\n",
        "    duplicate_links = (\n",
        "        session.query(NewsArticle.link)\n",
        "        .group_by(NewsArticle.link)\n",
        "        .having(func.count(NewsArticle.id) > 1)  # Find entries with more than 1 occurrence\n",
        "        .all()\n",
        "    )\n",
        "\n",
        "    # Loop through each duplicate link\n",
        "    for link, in duplicate_links:\n",
        "        # Query all articles with the duplicate link\n",
        "        duplicate_articles = session.query(NewsArticle).filter(NewsArticle.link == link).all()\n",
        "\n",
        "        # Keep only the first article and delete the others\n",
        "        for article in duplicate_articles[1:]:\n",
        "            session.delete(article)\n",
        "\n",
        "        # Commit the changes to the database\n",
        "        session.commit()\n",
        "\n",
        "    print(f\"Removed {len(duplicate_links)} duplicate articles.\")\n",
        "\n",
        "# Call the function to remove duplicates\n",
        "remove_duplicate_articles()"
      ],
      "metadata": {
        "colab": {
          "base_uri": "https://localhost:8080/"
        },
        "id": "PDR5p7rUMfrx",
        "outputId": "aa0062da-487f-4684-a1e3-cfc58c449bde"
      },
      "execution_count": null,
      "outputs": [
        {
          "output_type": "stream",
          "name": "stdout",
          "text": [
            "Removed 0 duplicate articles.\n"
          ]
        }
      ]
    },
    {
      "cell_type": "markdown",
      "source": [
        "Print the Articles from the Database"
      ],
      "metadata": {
        "id": "Fezc9fPELQxB"
      }
    },
    {
      "cell_type": "code",
      "source": [
        "def print_all_articles():\n",
        "    articles = session.query(NewsArticle).all()\n",
        "    for article in articles:\n",
        "        print(f\"ID: {article.id}\")\n",
        "        print(f\"Title: {article.title}\")\n",
        "        print(f\"Link: {article.link}\")\n",
        "        print(f\"Publication Date: {article.pub_date}\")\n",
        "        print(f\"Added Date: {article.added_date}\")\n",
        "        print(f\"Category: {article.category}\")\n",
        "        print(\"-\" * 40)\n",
        "\n",
        "# Print the articles stored in the database\n",
        "print_all_articles()\n"
      ],
      "metadata": {
        "colab": {
          "base_uri": "https://localhost:8080/"
        },
        "id": "CvzIoAvYLVsf",
        "outputId": "997f7c48-b65d-409e-b7a3-6f31db0cfc5f"
      },
      "execution_count": null,
      "outputs": [
        {
          "output_type": "stream",
          "name": "stdout",
          "text": [
            "ID: 1\n",
            "Title: Dominion still has pending lawsuits against election deniers such as Rudy Giuliani and Sidney Powell\n",
            "Link: https://www.cnn.com/business/live-news/fox-news-dominion-trial-04-18-23/h_8d51e3ae2714edaa0dace837305d03b8\n",
            "Publication Date: 2024-10-12 14:25:39.221602\n",
            "Added Date: 2024-10-12 14:44:33.113508\n",
            "Category: None\n",
            "----------------------------------------\n",
            "ID: 2\n",
            "Title: Russia is 'going backwards' in equipment and deploying post WWII-era tanks, according to Western officials\n",
            "Link: https://www.cnn.com/europe/live-news/russia-ukraine-war-news-04-18-23/index.html\n",
            "Publication Date: 2024-10-12 14:25:39.221682\n",
            "Added Date: 2024-10-12 14:44:33.132322\n",
            "Category: None\n",
            "----------------------------------------\n",
            "ID: 3\n",
            "Title: Podcast: One country musician is calling for other artists to oppose assault rifles\n",
            "Link: https://www.cnn.com/audio/podcasts/the-assignment/episodes/42a2f0e2-066a-4675-82ff-afe2016a0bb5\n",
            "Publication Date: 2024-10-12 14:25:39.221758\n",
            "Added Date: 2024-10-12 14:44:33.151332\n",
            "Category: None\n",
            "----------------------------------------\n",
            "ID: 4\n",
            "Title: Bidets save you money and reduce waste — we tested the best options out there\n",
            "Link: https://www.cnn.com/cnn-underscored/reviews/best-bidets?iid=CNNUnderscoredHPcontainer\n",
            "Publication Date: 2024-10-12 14:25:39.221811\n",
            "Added Date: 2024-10-12 14:44:33.166110\n",
            "Category: None\n",
            "----------------------------------------\n",
            "ID: 5\n",
            "Title: 50+ products to make your life easier and our planet cleaner\n",
            "Link: https://www.cnn.com/cnn-underscored/home/editors-favorite-sustainable-products?iid=CNNUnderscoredHPcontainer\n",
            "Publication Date: 2024-10-12 14:25:39.221816\n",
            "Added Date: 2024-10-12 14:44:33.175437\n",
            "Category: None\n",
            "----------------------------------------\n",
            "ID: 6\n",
            "Title: Mother's Day is around the corner. Here are 50+ thoughtful gifts she'll love\n",
            "Link: https://www.cnn.com/cnn-underscored/gifts/best-mothers-day-gifts-2023?iid=CNNUnderscoredHPcontainer\n",
            "Publication Date: 2024-10-12 14:25:39.221821\n",
            "Added Date: 2024-10-12 14:44:33.184679\n",
            "Category: None\n",
            "----------------------------------------\n",
            "ID: 7\n",
            "Title: A head-to-toe guide of how men should dress this spring, and where they should shop\n",
            "Link: https://www.cnn.com/cnn-underscored/fashion/mens-spring-fashion-style-guide?iid=CNNUnderscoredHPcontainer\n",
            "Publication Date: 2024-10-12 14:25:39.221825\n",
            "Added Date: 2024-10-12 14:44:33.194108\n",
            "Category: None\n",
            "----------------------------------------\n",
            "ID: 8\n",
            "Title: 42 of the most useful travel products you can buy on Amazon\n",
            "Link: https://www.cnn.com/cnn-underscored/travel/amazon-travel-products?iid=CNNUnderscoredHPcontainer\n",
            "Publication Date: 2024-10-12 14:25:39.221830\n",
            "Added Date: 2024-10-12 14:44:33.203689\n",
            "Category: None\n",
            "----------------------------------------\n",
            "ID: 9\n",
            "Title: The 7 best high-yield savings accounts of April 2023\n",
            "Link: https://www.cnn.com/cnn-underscored/money/high-yield-savings-accounts?iid=CNNUnderscoredHPcontainer\n",
            "Publication Date: 2024-10-12 14:25:39.221835\n",
            "Added Date: 2024-10-12 14:44:33.212737\n",
            "Category: None\n",
            "----------------------------------------\n",
            "ID: 10\n",
            "Title: Taxes are due tomorrow. Here's how to file for an extension\n",
            "Link: https://www.cnn.com/cnn-underscored/money/how-to-file-taxes?iid=CNNUnderscoredHPcontainer\n",
            "Publication Date: 2024-10-12 14:25:39.221840\n",
            "Added Date: 2024-10-12 14:44:33.221816\n",
            "Category: None\n",
            "----------------------------------------\n",
            "ID: 11\n",
            "Title: Composting is an easy way to reduce food waste. Here's how to do it\n",
            "Link: https://www.cnn.com/cnn-underscored/home/how-to-compost-at-home?iid=CNNUnderscoredHPcontainer\n",
            "Publication Date: 2024-10-12 14:25:39.221844\n",
            "Added Date: 2024-10-12 14:44:33.231248\n",
            "Category: None\n",
            "----------------------------------------\n",
            "ID: 12\n",
            "Title: We stopped using aluminum foil for cooking and you should too. Here's what to use instead\n",
            "Link: https://www.cnn.com/cnn-underscored/reviews/mmmat-silicone-mats?iid=CNNUnderscoredHPcontainer\n",
            "Publication Date: 2024-10-12 14:25:39.221849\n",
            "Added Date: 2024-10-12 14:44:33.241322\n",
            "Category: None\n",
            "----------------------------------------\n",
            "ID: 13\n",
            "Title: The beloved Dyson Supersonic hair dryer is at its lowest price ever\n",
            "Link: https://www.cnn.com/cnn-underscored/deals/dyson-supersonic-sale-2023-04-17?iid=CNNUnderscoredHPcontainer?iid=CNNUnderscoredHPcontainer\n",
            "Publication Date: 2024-10-12 14:25:39.221853\n",
            "Added Date: 2024-10-12 14:44:33.250656\n",
            "Category: None\n",
            "----------------------------------------\n",
            "ID: 14\n",
            "Title: Everything you need to know about Way Day 2023, Wayfair's biggest sale of the year\n",
            "Link: https://www.cnn.com/cnn-underscored/deals/wayfair-way-day-2023-04-17?iid=CNNUnderscoredHPcontainer\n",
            "Publication Date: 2024-10-12 14:25:39.221857\n",
            "Added Date: 2024-10-12 14:44:33.260167\n",
            "Category: None\n",
            "----------------------------------------\n",
            "ID: 15\n",
            "Title: The 10 best Amazon deals to shop this week\n",
            "Link: https://www.cnn.com/cnn-underscored/deals/best-amazon-deals-2023-04-12?iid=CNNUnderscoredHPcontainer\n",
            "Publication Date: 2024-10-12 14:25:39.221862\n",
            "Added Date: 2024-10-12 14:44:33.269416\n",
            "Category: None\n",
            "----------------------------------------\n",
            "ID: 16\n",
            "Title: The 2024 presidential alternative many voters will want\n",
            "Link: https://www.cnn.com/2023/04/18/opinions/2024-presidential-election-alternative-voters-lieberman\n",
            "Publication Date: 2024-10-12 14:25:39.221871\n",
            "Added Date: 2024-10-12 14:44:33.278397\n",
            "Category: None\n",
            "----------------------------------------\n"
          ]
        }
      ]
    },
    {
      "cell_type": "markdown",
      "source": [
        "Classify Articles Using Hugging Face LLMs"
      ],
      "metadata": {
        "id": "YMoqlKM_LX8M"
      }
    },
    {
      "cell_type": "code",
      "source": [
        "from transformers import pipeline\n",
        "\n",
        "# Load the Hugging Face model for text classification\n",
        "classifier = pipeline(\"zero-shot-classification\", model=\"facebook/bart-large-mnli\")\n",
        "\n",
        "# Define candidate labels for classification\n",
        "labels = [\"Terrorism / protest / political unrest / riot\", \"Positive/Uplifting\", \"Natural Disasters\", \"Others\"]\n",
        "\n",
        "# Function to classify and update the articles in the database\n",
        "def classify_and_update_articles():\n",
        "    articles = session.query(NewsArticle).all()\n",
        "    for article in articles:\n",
        "        # Use Hugging Face's zero-shot classification to classify the article\n",
        "        result = classifier(article.title, labels)\n",
        "        category = result['labels'][0]  # Select the top category\n",
        "\n",
        "        # Update the article's category in the database\n",
        "        article.category = category\n",
        "        session.commit()\n",
        "        print(f\"Article '{article.title}' classified as {category}\")\n",
        "\n",
        "# Classify and update the articles\n",
        "classify_and_update_articles()\n",
        "\n",
        "# Print all articles with classification\n",
        "print_all_articles()\n"
      ],
      "metadata": {
        "colab": {
          "base_uri": "https://localhost:8080/"
        },
        "id": "lZUTlJ_WLd3n",
        "outputId": "91659ea2-7aa2-4845-8452-860f1ef8d41c"
      },
      "execution_count": null,
      "outputs": [
        {
          "output_type": "stream",
          "name": "stderr",
          "text": [
            "/usr/local/lib/python3.10/dist-packages/transformers/tokenization_utils_base.py:1601: FutureWarning: `clean_up_tokenization_spaces` was not set. It will be set to `True` by default. This behavior will be depracted in transformers v4.45, and will be then set to `False` by default. For more details check this issue: https://github.com/huggingface/transformers/issues/31884\n",
            "  warnings.warn(\n"
          ]
        },
        {
          "output_type": "stream",
          "name": "stdout",
          "text": [
            "Article 'Dominion still has pending lawsuits against election deniers such as Rudy Giuliani and Sidney Powell' classified as Positive/Uplifting\n",
            "Article 'Russia is 'going backwards' in equipment and deploying post WWII-era tanks, according to Western officials' classified as Others\n",
            "Article 'Podcast: One country musician is calling for other artists to oppose assault rifles' classified as Others\n",
            "Article 'Bidets save you money and reduce waste — we tested the best options out there' classified as Positive/Uplifting\n",
            "Article '50+ products to make your life easier and our planet cleaner' classified as Positive/Uplifting\n",
            "Article 'Mother's Day is around the corner. Here are 50+ thoughtful gifts she'll love' classified as Positive/Uplifting\n",
            "Article 'A head-to-toe guide of how men should dress this spring, and where they should shop' classified as Positive/Uplifting\n",
            "Article '42 of the most useful travel products you can buy on Amazon' classified as Positive/Uplifting\n",
            "Article 'The 7 best high-yield savings accounts of April 2023' classified as Positive/Uplifting\n",
            "Article 'Taxes are due tomorrow. Here's how to file for an extension' classified as Others\n",
            "Article 'Composting is an easy way to reduce food waste. Here's how to do it' classified as Positive/Uplifting\n",
            "Article 'We stopped using aluminum foil for cooking and you should too. Here's what to use instead' classified as Positive/Uplifting\n",
            "Article 'The beloved Dyson Supersonic hair dryer is at its lowest price ever' classified as Positive/Uplifting\n",
            "Article 'Everything you need to know about Way Day 2023, Wayfair's biggest sale of the year' classified as Positive/Uplifting\n",
            "Article 'The 10 best Amazon deals to shop this week' classified as Positive/Uplifting\n",
            "Article 'The 2024 presidential alternative many voters will want' classified as Positive/Uplifting\n",
            "ID: 1\n",
            "Title: Dominion still has pending lawsuits against election deniers such as Rudy Giuliani and Sidney Powell\n",
            "Link: https://www.cnn.com/business/live-news/fox-news-dominion-trial-04-18-23/h_8d51e3ae2714edaa0dace837305d03b8\n",
            "Publication Date: 2024-10-12 14:25:39.221602\n",
            "Added Date: 2024-10-12 14:44:33.113508\n",
            "Category: Positive/Uplifting\n",
            "----------------------------------------\n",
            "ID: 2\n",
            "Title: Russia is 'going backwards' in equipment and deploying post WWII-era tanks, according to Western officials\n",
            "Link: https://www.cnn.com/europe/live-news/russia-ukraine-war-news-04-18-23/index.html\n",
            "Publication Date: 2024-10-12 14:25:39.221682\n",
            "Added Date: 2024-10-12 14:44:33.132322\n",
            "Category: Others\n",
            "----------------------------------------\n",
            "ID: 3\n",
            "Title: Podcast: One country musician is calling for other artists to oppose assault rifles\n",
            "Link: https://www.cnn.com/audio/podcasts/the-assignment/episodes/42a2f0e2-066a-4675-82ff-afe2016a0bb5\n",
            "Publication Date: 2024-10-12 14:25:39.221758\n",
            "Added Date: 2024-10-12 14:44:33.151332\n",
            "Category: Others\n",
            "----------------------------------------\n",
            "ID: 4\n",
            "Title: Bidets save you money and reduce waste — we tested the best options out there\n",
            "Link: https://www.cnn.com/cnn-underscored/reviews/best-bidets?iid=CNNUnderscoredHPcontainer\n",
            "Publication Date: 2024-10-12 14:25:39.221811\n",
            "Added Date: 2024-10-12 14:44:33.166110\n",
            "Category: Positive/Uplifting\n",
            "----------------------------------------\n",
            "ID: 5\n",
            "Title: 50+ products to make your life easier and our planet cleaner\n",
            "Link: https://www.cnn.com/cnn-underscored/home/editors-favorite-sustainable-products?iid=CNNUnderscoredHPcontainer\n",
            "Publication Date: 2024-10-12 14:25:39.221816\n",
            "Added Date: 2024-10-12 14:44:33.175437\n",
            "Category: Positive/Uplifting\n",
            "----------------------------------------\n",
            "ID: 6\n",
            "Title: Mother's Day is around the corner. Here are 50+ thoughtful gifts she'll love\n",
            "Link: https://www.cnn.com/cnn-underscored/gifts/best-mothers-day-gifts-2023?iid=CNNUnderscoredHPcontainer\n",
            "Publication Date: 2024-10-12 14:25:39.221821\n",
            "Added Date: 2024-10-12 14:44:33.184679\n",
            "Category: Positive/Uplifting\n",
            "----------------------------------------\n",
            "ID: 7\n",
            "Title: A head-to-toe guide of how men should dress this spring, and where they should shop\n",
            "Link: https://www.cnn.com/cnn-underscored/fashion/mens-spring-fashion-style-guide?iid=CNNUnderscoredHPcontainer\n",
            "Publication Date: 2024-10-12 14:25:39.221825\n",
            "Added Date: 2024-10-12 14:44:33.194108\n",
            "Category: Positive/Uplifting\n",
            "----------------------------------------\n",
            "ID: 8\n",
            "Title: 42 of the most useful travel products you can buy on Amazon\n",
            "Link: https://www.cnn.com/cnn-underscored/travel/amazon-travel-products?iid=CNNUnderscoredHPcontainer\n",
            "Publication Date: 2024-10-12 14:25:39.221830\n",
            "Added Date: 2024-10-12 14:44:33.203689\n",
            "Category: Positive/Uplifting\n",
            "----------------------------------------\n",
            "ID: 9\n",
            "Title: The 7 best high-yield savings accounts of April 2023\n",
            "Link: https://www.cnn.com/cnn-underscored/money/high-yield-savings-accounts?iid=CNNUnderscoredHPcontainer\n",
            "Publication Date: 2024-10-12 14:25:39.221835\n",
            "Added Date: 2024-10-12 14:44:33.212737\n",
            "Category: Positive/Uplifting\n",
            "----------------------------------------\n",
            "ID: 10\n",
            "Title: Taxes are due tomorrow. Here's how to file for an extension\n",
            "Link: https://www.cnn.com/cnn-underscored/money/how-to-file-taxes?iid=CNNUnderscoredHPcontainer\n",
            "Publication Date: 2024-10-12 14:25:39.221840\n",
            "Added Date: 2024-10-12 14:44:33.221816\n",
            "Category: Others\n",
            "----------------------------------------\n",
            "ID: 11\n",
            "Title: Composting is an easy way to reduce food waste. Here's how to do it\n",
            "Link: https://www.cnn.com/cnn-underscored/home/how-to-compost-at-home?iid=CNNUnderscoredHPcontainer\n",
            "Publication Date: 2024-10-12 14:25:39.221844\n",
            "Added Date: 2024-10-12 14:44:33.231248\n",
            "Category: Positive/Uplifting\n",
            "----------------------------------------\n",
            "ID: 12\n",
            "Title: We stopped using aluminum foil for cooking and you should too. Here's what to use instead\n",
            "Link: https://www.cnn.com/cnn-underscored/reviews/mmmat-silicone-mats?iid=CNNUnderscoredHPcontainer\n",
            "Publication Date: 2024-10-12 14:25:39.221849\n",
            "Added Date: 2024-10-12 14:44:33.241322\n",
            "Category: Positive/Uplifting\n",
            "----------------------------------------\n",
            "ID: 13\n",
            "Title: The beloved Dyson Supersonic hair dryer is at its lowest price ever\n",
            "Link: https://www.cnn.com/cnn-underscored/deals/dyson-supersonic-sale-2023-04-17?iid=CNNUnderscoredHPcontainer?iid=CNNUnderscoredHPcontainer\n",
            "Publication Date: 2024-10-12 14:25:39.221853\n",
            "Added Date: 2024-10-12 14:44:33.250656\n",
            "Category: Positive/Uplifting\n",
            "----------------------------------------\n",
            "ID: 14\n",
            "Title: Everything you need to know about Way Day 2023, Wayfair's biggest sale of the year\n",
            "Link: https://www.cnn.com/cnn-underscored/deals/wayfair-way-day-2023-04-17?iid=CNNUnderscoredHPcontainer\n",
            "Publication Date: 2024-10-12 14:25:39.221857\n",
            "Added Date: 2024-10-12 14:44:33.260167\n",
            "Category: Positive/Uplifting\n",
            "----------------------------------------\n",
            "ID: 15\n",
            "Title: The 10 best Amazon deals to shop this week\n",
            "Link: https://www.cnn.com/cnn-underscored/deals/best-amazon-deals-2023-04-12?iid=CNNUnderscoredHPcontainer\n",
            "Publication Date: 2024-10-12 14:25:39.221862\n",
            "Added Date: 2024-10-12 14:44:33.269416\n",
            "Category: Positive/Uplifting\n",
            "----------------------------------------\n",
            "ID: 16\n",
            "Title: The 2024 presidential alternative many voters will want\n",
            "Link: https://www.cnn.com/2023/04/18/opinions/2024-presidential-election-alternative-voters-lieberman\n",
            "Publication Date: 2024-10-12 14:25:39.221871\n",
            "Added Date: 2024-10-12 14:44:33.278397\n",
            "Category: Positive/Uplifting\n",
            "----------------------------------------\n"
          ]
        }
      ]
    },
    {
      "cell_type": "markdown",
      "source": [
        "Save Database as a CSV file"
      ],
      "metadata": {
        "id": "c-cTah5pM6NC"
      }
    },
    {
      "cell_type": "code",
      "source": [
        "import pandas as pd\n",
        "\n",
        "# Function to export the news_articles table to a CSV file\n",
        "def export_to_csv(file_name='news_articles_export.csv'):\n",
        "    # Query all articles from the database\n",
        "    articles = session.query(NewsArticle).all()\n",
        "\n",
        "    # Convert the list of articles to a list of dictionaries\n",
        "    data = []\n",
        "    for article in articles:\n",
        "        data.append({\n",
        "            'id': article.id,\n",
        "            'title': article.title,\n",
        "            'link': article.link,\n",
        "            'pub_date': article.pub_date,\n",
        "            'added_date': article.added_date,\n",
        "            'category': article.category\n",
        "        })\n",
        "\n",
        "    # Convert the data to a pandas DataFrame\n",
        "    df = pd.DataFrame(data)\n",
        "\n",
        "    # Export the DataFrame to a CSV file\n",
        "    df.to_csv(file_name, index=False)\n",
        "    print(f\"Database exported to {file_name}\")\n",
        "\n",
        "# Call the function to export the database to CSV\n",
        "export_to_csv()\n"
      ],
      "metadata": {
        "colab": {
          "base_uri": "https://localhost:8080/"
        },
        "id": "HTgLaqw8Mzwm",
        "outputId": "388d7d55-1c5b-4119-9360-2a7ff6ad891d"
      },
      "execution_count": null,
      "outputs": [
        {
          "output_type": "stream",
          "name": "stdout",
          "text": [
            "Database exported to news_articles_export.csv\n"
          ]
        }
      ]
    },
    {
      "cell_type": "markdown",
      "source": [
        "Check for Distribution of classified articles"
      ],
      "metadata": {
        "id": "Z-d-U3-YNAvr"
      }
    },
    {
      "cell_type": "code",
      "source": [
        "import pandas as pd\n",
        "\n",
        "df = pd.read_csv('news_articles_export.csv')\n",
        "df.head()"
      ],
      "metadata": {
        "colab": {
          "base_uri": "https://localhost:8080/",
          "height": 206
        },
        "id": "XLzDtuG3M1sj",
        "outputId": "234e39c5-876a-4e8f-b35c-6e56b9f98cae"
      },
      "execution_count": null,
      "outputs": [
        {
          "output_type": "execute_result",
          "data": {
            "text/plain": [
              "   id                                              title  \\\n",
              "0   1  Dominion still has pending lawsuits against el...   \n",
              "1   2  Russia is 'going backwards' in equipment and d...   \n",
              "2   3  Podcast: One country musician is calling for o...   \n",
              "3   4  Bidets save you money and reduce waste — we te...   \n",
              "4   5  50+ products to make your life easier and our ...   \n",
              "\n",
              "                                                link  \\\n",
              "0  https://www.cnn.com/business/live-news/fox-new...   \n",
              "1  https://www.cnn.com/europe/live-news/russia-uk...   \n",
              "2  https://www.cnn.com/audio/podcasts/the-assignm...   \n",
              "3  https://www.cnn.com/cnn-underscored/reviews/be...   \n",
              "4  https://www.cnn.com/cnn-underscored/home/edito...   \n",
              "\n",
              "                     pub_date                  added_date            category  \n",
              "0  2024-10-12 14:25:39.221602  2024-10-12 14:44:33.113508  Positive/Uplifting  \n",
              "1  2024-10-12 14:25:39.221682  2024-10-12 14:44:33.132322              Others  \n",
              "2  2024-10-12 14:25:39.221758  2024-10-12 14:44:33.151332              Others  \n",
              "3  2024-10-12 14:25:39.221811  2024-10-12 14:44:33.166110  Positive/Uplifting  \n",
              "4  2024-10-12 14:25:39.221816  2024-10-12 14:44:33.175437  Positive/Uplifting  "
            ],
            "text/html": [
              "\n",
              "  <div id=\"df-cfe2d85f-cd8b-4106-9393-a396d53f64d2\" class=\"colab-df-container\">\n",
              "    <div>\n",
              "<style scoped>\n",
              "    .dataframe tbody tr th:only-of-type {\n",
              "        vertical-align: middle;\n",
              "    }\n",
              "\n",
              "    .dataframe tbody tr th {\n",
              "        vertical-align: top;\n",
              "    }\n",
              "\n",
              "    .dataframe thead th {\n",
              "        text-align: right;\n",
              "    }\n",
              "</style>\n",
              "<table border=\"1\" class=\"dataframe\">\n",
              "  <thead>\n",
              "    <tr style=\"text-align: right;\">\n",
              "      <th></th>\n",
              "      <th>id</th>\n",
              "      <th>title</th>\n",
              "      <th>link</th>\n",
              "      <th>pub_date</th>\n",
              "      <th>added_date</th>\n",
              "      <th>category</th>\n",
              "    </tr>\n",
              "  </thead>\n",
              "  <tbody>\n",
              "    <tr>\n",
              "      <th>0</th>\n",
              "      <td>1</td>\n",
              "      <td>Dominion still has pending lawsuits against el...</td>\n",
              "      <td>https://www.cnn.com/business/live-news/fox-new...</td>\n",
              "      <td>2024-10-12 14:25:39.221602</td>\n",
              "      <td>2024-10-12 14:44:33.113508</td>\n",
              "      <td>Positive/Uplifting</td>\n",
              "    </tr>\n",
              "    <tr>\n",
              "      <th>1</th>\n",
              "      <td>2</td>\n",
              "      <td>Russia is 'going backwards' in equipment and d...</td>\n",
              "      <td>https://www.cnn.com/europe/live-news/russia-uk...</td>\n",
              "      <td>2024-10-12 14:25:39.221682</td>\n",
              "      <td>2024-10-12 14:44:33.132322</td>\n",
              "      <td>Others</td>\n",
              "    </tr>\n",
              "    <tr>\n",
              "      <th>2</th>\n",
              "      <td>3</td>\n",
              "      <td>Podcast: One country musician is calling for o...</td>\n",
              "      <td>https://www.cnn.com/audio/podcasts/the-assignm...</td>\n",
              "      <td>2024-10-12 14:25:39.221758</td>\n",
              "      <td>2024-10-12 14:44:33.151332</td>\n",
              "      <td>Others</td>\n",
              "    </tr>\n",
              "    <tr>\n",
              "      <th>3</th>\n",
              "      <td>4</td>\n",
              "      <td>Bidets save you money and reduce waste — we te...</td>\n",
              "      <td>https://www.cnn.com/cnn-underscored/reviews/be...</td>\n",
              "      <td>2024-10-12 14:25:39.221811</td>\n",
              "      <td>2024-10-12 14:44:33.166110</td>\n",
              "      <td>Positive/Uplifting</td>\n",
              "    </tr>\n",
              "    <tr>\n",
              "      <th>4</th>\n",
              "      <td>5</td>\n",
              "      <td>50+ products to make your life easier and our ...</td>\n",
              "      <td>https://www.cnn.com/cnn-underscored/home/edito...</td>\n",
              "      <td>2024-10-12 14:25:39.221816</td>\n",
              "      <td>2024-10-12 14:44:33.175437</td>\n",
              "      <td>Positive/Uplifting</td>\n",
              "    </tr>\n",
              "  </tbody>\n",
              "</table>\n",
              "</div>\n",
              "    <div class=\"colab-df-buttons\">\n",
              "\n",
              "  <div class=\"colab-df-container\">\n",
              "    <button class=\"colab-df-convert\" onclick=\"convertToInteractive('df-cfe2d85f-cd8b-4106-9393-a396d53f64d2')\"\n",
              "            title=\"Convert this dataframe to an interactive table.\"\n",
              "            style=\"display:none;\">\n",
              "\n",
              "  <svg xmlns=\"http://www.w3.org/2000/svg\" height=\"24px\" viewBox=\"0 -960 960 960\">\n",
              "    <path d=\"M120-120v-720h720v720H120Zm60-500h600v-160H180v160Zm220 220h160v-160H400v160Zm0 220h160v-160H400v160ZM180-400h160v-160H180v160Zm440 0h160v-160H620v160ZM180-180h160v-160H180v160Zm440 0h160v-160H620v160Z\"/>\n",
              "  </svg>\n",
              "    </button>\n",
              "\n",
              "  <style>\n",
              "    .colab-df-container {\n",
              "      display:flex;\n",
              "      gap: 12px;\n",
              "    }\n",
              "\n",
              "    .colab-df-convert {\n",
              "      background-color: #E8F0FE;\n",
              "      border: none;\n",
              "      border-radius: 50%;\n",
              "      cursor: pointer;\n",
              "      display: none;\n",
              "      fill: #1967D2;\n",
              "      height: 32px;\n",
              "      padding: 0 0 0 0;\n",
              "      width: 32px;\n",
              "    }\n",
              "\n",
              "    .colab-df-convert:hover {\n",
              "      background-color: #E2EBFA;\n",
              "      box-shadow: 0px 1px 2px rgba(60, 64, 67, 0.3), 0px 1px 3px 1px rgba(60, 64, 67, 0.15);\n",
              "      fill: #174EA6;\n",
              "    }\n",
              "\n",
              "    .colab-df-buttons div {\n",
              "      margin-bottom: 4px;\n",
              "    }\n",
              "\n",
              "    [theme=dark] .colab-df-convert {\n",
              "      background-color: #3B4455;\n",
              "      fill: #D2E3FC;\n",
              "    }\n",
              "\n",
              "    [theme=dark] .colab-df-convert:hover {\n",
              "      background-color: #434B5C;\n",
              "      box-shadow: 0px 1px 3px 1px rgba(0, 0, 0, 0.15);\n",
              "      filter: drop-shadow(0px 1px 2px rgba(0, 0, 0, 0.3));\n",
              "      fill: #FFFFFF;\n",
              "    }\n",
              "  </style>\n",
              "\n",
              "    <script>\n",
              "      const buttonEl =\n",
              "        document.querySelector('#df-cfe2d85f-cd8b-4106-9393-a396d53f64d2 button.colab-df-convert');\n",
              "      buttonEl.style.display =\n",
              "        google.colab.kernel.accessAllowed ? 'block' : 'none';\n",
              "\n",
              "      async function convertToInteractive(key) {\n",
              "        const element = document.querySelector('#df-cfe2d85f-cd8b-4106-9393-a396d53f64d2');\n",
              "        const dataTable =\n",
              "          await google.colab.kernel.invokeFunction('convertToInteractive',\n",
              "                                                    [key], {});\n",
              "        if (!dataTable) return;\n",
              "\n",
              "        const docLinkHtml = 'Like what you see? Visit the ' +\n",
              "          '<a target=\"_blank\" href=https://colab.research.google.com/notebooks/data_table.ipynb>data table notebook</a>'\n",
              "          + ' to learn more about interactive tables.';\n",
              "        element.innerHTML = '';\n",
              "        dataTable['output_type'] = 'display_data';\n",
              "        await google.colab.output.renderOutput(dataTable, element);\n",
              "        const docLink = document.createElement('div');\n",
              "        docLink.innerHTML = docLinkHtml;\n",
              "        element.appendChild(docLink);\n",
              "      }\n",
              "    </script>\n",
              "  </div>\n",
              "\n",
              "\n",
              "<div id=\"df-1babe202-ef36-4da1-b9bd-5bc0ad6050bf\">\n",
              "  <button class=\"colab-df-quickchart\" onclick=\"quickchart('df-1babe202-ef36-4da1-b9bd-5bc0ad6050bf')\"\n",
              "            title=\"Suggest charts\"\n",
              "            style=\"display:none;\">\n",
              "\n",
              "<svg xmlns=\"http://www.w3.org/2000/svg\" height=\"24px\"viewBox=\"0 0 24 24\"\n",
              "     width=\"24px\">\n",
              "    <g>\n",
              "        <path d=\"M19 3H5c-1.1 0-2 .9-2 2v14c0 1.1.9 2 2 2h14c1.1 0 2-.9 2-2V5c0-1.1-.9-2-2-2zM9 17H7v-7h2v7zm4 0h-2V7h2v10zm4 0h-2v-4h2v4z\"/>\n",
              "    </g>\n",
              "</svg>\n",
              "  </button>\n",
              "\n",
              "<style>\n",
              "  .colab-df-quickchart {\n",
              "      --bg-color: #E8F0FE;\n",
              "      --fill-color: #1967D2;\n",
              "      --hover-bg-color: #E2EBFA;\n",
              "      --hover-fill-color: #174EA6;\n",
              "      --disabled-fill-color: #AAA;\n",
              "      --disabled-bg-color: #DDD;\n",
              "  }\n",
              "\n",
              "  [theme=dark] .colab-df-quickchart {\n",
              "      --bg-color: #3B4455;\n",
              "      --fill-color: #D2E3FC;\n",
              "      --hover-bg-color: #434B5C;\n",
              "      --hover-fill-color: #FFFFFF;\n",
              "      --disabled-bg-color: #3B4455;\n",
              "      --disabled-fill-color: #666;\n",
              "  }\n",
              "\n",
              "  .colab-df-quickchart {\n",
              "    background-color: var(--bg-color);\n",
              "    border: none;\n",
              "    border-radius: 50%;\n",
              "    cursor: pointer;\n",
              "    display: none;\n",
              "    fill: var(--fill-color);\n",
              "    height: 32px;\n",
              "    padding: 0;\n",
              "    width: 32px;\n",
              "  }\n",
              "\n",
              "  .colab-df-quickchart:hover {\n",
              "    background-color: var(--hover-bg-color);\n",
              "    box-shadow: 0 1px 2px rgba(60, 64, 67, 0.3), 0 1px 3px 1px rgba(60, 64, 67, 0.15);\n",
              "    fill: var(--button-hover-fill-color);\n",
              "  }\n",
              "\n",
              "  .colab-df-quickchart-complete:disabled,\n",
              "  .colab-df-quickchart-complete:disabled:hover {\n",
              "    background-color: var(--disabled-bg-color);\n",
              "    fill: var(--disabled-fill-color);\n",
              "    box-shadow: none;\n",
              "  }\n",
              "\n",
              "  .colab-df-spinner {\n",
              "    border: 2px solid var(--fill-color);\n",
              "    border-color: transparent;\n",
              "    border-bottom-color: var(--fill-color);\n",
              "    animation:\n",
              "      spin 1s steps(1) infinite;\n",
              "  }\n",
              "\n",
              "  @keyframes spin {\n",
              "    0% {\n",
              "      border-color: transparent;\n",
              "      border-bottom-color: var(--fill-color);\n",
              "      border-left-color: var(--fill-color);\n",
              "    }\n",
              "    20% {\n",
              "      border-color: transparent;\n",
              "      border-left-color: var(--fill-color);\n",
              "      border-top-color: var(--fill-color);\n",
              "    }\n",
              "    30% {\n",
              "      border-color: transparent;\n",
              "      border-left-color: var(--fill-color);\n",
              "      border-top-color: var(--fill-color);\n",
              "      border-right-color: var(--fill-color);\n",
              "    }\n",
              "    40% {\n",
              "      border-color: transparent;\n",
              "      border-right-color: var(--fill-color);\n",
              "      border-top-color: var(--fill-color);\n",
              "    }\n",
              "    60% {\n",
              "      border-color: transparent;\n",
              "      border-right-color: var(--fill-color);\n",
              "    }\n",
              "    80% {\n",
              "      border-color: transparent;\n",
              "      border-right-color: var(--fill-color);\n",
              "      border-bottom-color: var(--fill-color);\n",
              "    }\n",
              "    90% {\n",
              "      border-color: transparent;\n",
              "      border-bottom-color: var(--fill-color);\n",
              "    }\n",
              "  }\n",
              "</style>\n",
              "\n",
              "  <script>\n",
              "    async function quickchart(key) {\n",
              "      const quickchartButtonEl =\n",
              "        document.querySelector('#' + key + ' button');\n",
              "      quickchartButtonEl.disabled = true;  // To prevent multiple clicks.\n",
              "      quickchartButtonEl.classList.add('colab-df-spinner');\n",
              "      try {\n",
              "        const charts = await google.colab.kernel.invokeFunction(\n",
              "            'suggestCharts', [key], {});\n",
              "      } catch (error) {\n",
              "        console.error('Error during call to suggestCharts:', error);\n",
              "      }\n",
              "      quickchartButtonEl.classList.remove('colab-df-spinner');\n",
              "      quickchartButtonEl.classList.add('colab-df-quickchart-complete');\n",
              "    }\n",
              "    (() => {\n",
              "      let quickchartButtonEl =\n",
              "        document.querySelector('#df-1babe202-ef36-4da1-b9bd-5bc0ad6050bf button');\n",
              "      quickchartButtonEl.style.display =\n",
              "        google.colab.kernel.accessAllowed ? 'block' : 'none';\n",
              "    })();\n",
              "  </script>\n",
              "</div>\n",
              "\n",
              "    </div>\n",
              "  </div>\n"
            ],
            "application/vnd.google.colaboratory.intrinsic+json": {
              "type": "dataframe",
              "variable_name": "df",
              "summary": "{\n  \"name\": \"df\",\n  \"rows\": 16,\n  \"fields\": [\n    {\n      \"column\": \"id\",\n      \"properties\": {\n        \"dtype\": \"number\",\n        \"std\": 4,\n        \"min\": 1,\n        \"max\": 16,\n        \"num_unique_values\": 16,\n        \"samples\": [\n          1,\n          2,\n          6\n        ],\n        \"semantic_type\": \"\",\n        \"description\": \"\"\n      }\n    },\n    {\n      \"column\": \"title\",\n      \"properties\": {\n        \"dtype\": \"string\",\n        \"num_unique_values\": 16,\n        \"samples\": [\n          \"Dominion still has pending lawsuits against election deniers such as Rudy Giuliani and Sidney Powell\",\n          \"Russia is 'going backwards' in equipment and deploying post WWII-era tanks, according to Western officials\",\n          \"Mother's Day is around the corner. Here are 50+ thoughtful gifts she'll love\"\n        ],\n        \"semantic_type\": \"\",\n        \"description\": \"\"\n      }\n    },\n    {\n      \"column\": \"link\",\n      \"properties\": {\n        \"dtype\": \"string\",\n        \"num_unique_values\": 16,\n        \"samples\": [\n          \"https://www.cnn.com/business/live-news/fox-news-dominion-trial-04-18-23/h_8d51e3ae2714edaa0dace837305d03b8\",\n          \"https://www.cnn.com/europe/live-news/russia-ukraine-war-news-04-18-23/index.html\",\n          \"https://www.cnn.com/cnn-underscored/gifts/best-mothers-day-gifts-2023?iid=CNNUnderscoredHPcontainer\"\n        ],\n        \"semantic_type\": \"\",\n        \"description\": \"\"\n      }\n    },\n    {\n      \"column\": \"pub_date\",\n      \"properties\": {\n        \"dtype\": \"object\",\n        \"num_unique_values\": 16,\n        \"samples\": [\n          \"2024-10-12 14:25:39.221602\",\n          \"2024-10-12 14:25:39.221682\",\n          \"2024-10-12 14:25:39.221821\"\n        ],\n        \"semantic_type\": \"\",\n        \"description\": \"\"\n      }\n    },\n    {\n      \"column\": \"added_date\",\n      \"properties\": {\n        \"dtype\": \"object\",\n        \"num_unique_values\": 16,\n        \"samples\": [\n          \"2024-10-12 14:44:33.113508\",\n          \"2024-10-12 14:44:33.132322\",\n          \"2024-10-12 14:44:33.184679\"\n        ],\n        \"semantic_type\": \"\",\n        \"description\": \"\"\n      }\n    },\n    {\n      \"column\": \"category\",\n      \"properties\": {\n        \"dtype\": \"category\",\n        \"num_unique_values\": 2,\n        \"samples\": [\n          \"Others\",\n          \"Positive/Uplifting\"\n        ],\n        \"semantic_type\": \"\",\n        \"description\": \"\"\n      }\n    }\n  ]\n}"
            }
          },
          "metadata": {},
          "execution_count": 18
        }
      ]
    },
    {
      "cell_type": "code",
      "source": [
        "import matplotlib.pyplot as plt\n",
        "\n",
        "# Assuming 'df' is your DataFrame containing the news articles\n",
        "# and 'category' is the column with the classified categories\n",
        "\n",
        "# Count the occurrences of each category\n",
        "category_counts = df['category'].value_counts()\n",
        "\n",
        "# Create a bar plot\n",
        "plt.figure(figsize=(10, 6))\n",
        "plt.bar(category_counts.index, category_counts.values)\n",
        "plt.xlabel(\"Category\")\n",
        "plt.ylabel(\"Number of Articles\")\n",
        "plt.title(\"Distribution of Classified Articles\")\n",
        "plt.xticks(rotation=45, ha='right')  # Rotate x-axis labels for better readability\n",
        "plt.tight_layout()  # Adjust layout to prevent labels from overlapping\n",
        "plt.show()"
      ],
      "metadata": {
        "colab": {
          "base_uri": "https://localhost:8080/",
          "height": 607
        },
        "id": "FVJtAXJANJay",
        "outputId": "13904d71-fb59-4455-84bb-73a2dc2878b9"
      },
      "execution_count": null,
      "outputs": [
        {
          "output_type": "display_data",
          "data": {
            "text/plain": [
              "<Figure size 1000x600 with 1 Axes>"
            ],
            "image/png": "[encoded data removed]"
          },
          "metadata": {}
        }
      ]
    },
    {
      "cell_type": "markdown",
      "source": [
        "CLASSIFCATION MANUALLY WITH KEYWORDS"
      ],
      "metadata": {
        "id": "5XEmbLbrOtSe"
      }
    },
    {
      "cell_type": "code",
      "source": [
        "# Define the keywords for each category\n",
        "keyword_dict = {\n",
        "    \"Terrorism\": [\"terror\", \"attack\", \"bomb\", \"militant\", \"terrorism\"],\n",
        "    \"Protest\": [\"protest\", \"demonstration\", \"march\", \"rally\"],\n",
        "    \"Political Unrest\": [\"political unrest\", \"civil unrest\", \"government\", \"regime\", \"election\"],\n",
        "    \"Riot\": [\"riot\", \"violence\", \"clash\", \"mob\"],\n",
        "    \"Positive/Uplifting\": [\"hope\", \"positive\", \"uplifting\", \"success\", \"good news\"],\n",
        "    \"Natural Disasters\": [\"earthquake\", \"flood\", \"hurricane\", \"wildfire\", \"natural disaster\"]\n",
        "}"
      ],
      "metadata": {
        "id": "bq9E_EGWOyRc"
      },
      "execution_count": null,
      "outputs": []
    },
    {
      "cell_type": "code",
      "source": [
        "# Function to classify the article based on keywords\n",
        "def classify_article(title):\n",
        "    # Convert the title to lowercase for case-insensitive matching\n",
        "    title_lower = title.lower()\n",
        "\n",
        "    # Check for keywords in the title and assign categories\n",
        "    for category, keywords in keyword_dict.items():\n",
        "        for keyword in keywords:\n",
        "            if keyword in title_lower:\n",
        "                return category\n",
        "\n",
        "    # Default classification if no keywords match\n",
        "    return \"Others\""
      ],
      "metadata": {
        "id": "pMvYnxQxO05m"
      },
      "execution_count": null,
      "outputs": []
    },
    {
      "cell_type": "code",
      "source": [
        "# Apply the classification function to the DataFrame\n",
        "df['manual_classification'] = df['title'].apply(classify_article)\n",
        "\n",
        "# Print the updated DataFrame to see the classification results\n",
        "print(df[['title', 'manual_classification']])"
      ],
      "metadata": {
        "colab": {
          "base_uri": "https://localhost:8080/"
        },
        "id": "SyaPR-XoO90g",
        "outputId": "2d545d17-8080-44ab-b122-948ba27b8d5f"
      },
      "execution_count": null,
      "outputs": [
        {
          "output_type": "stream",
          "name": "stdout",
          "text": [
            "                                                title manual_classification\n",
            "0   Dominion still has pending lawsuits against el...      Political Unrest\n",
            "1   Russia is 'going backwards' in equipment and d...                Others\n",
            "2   Podcast: One country musician is calling for o...                Others\n",
            "3   Bidets save you money and reduce waste — we te...                Others\n",
            "4   50+ products to make your life easier and our ...                Others\n",
            "5   Mother's Day is around the corner. Here are 50...                Others\n",
            "6   A head-to-toe guide of how men should dress th...                Others\n",
            "7   42 of the most useful travel products you can ...                Others\n",
            "8   The 7 best high-yield savings accounts of Apri...                Others\n",
            "9   Taxes are due tomorrow. Here's how to file for...                Others\n",
            "10  Composting is an easy way to reduce food waste...                Others\n",
            "11  We stopped using aluminum foil for cooking and...                Others\n",
            "12  The beloved Dyson Supersonic hair dryer is at ...                Others\n",
            "13  Everything you need to know about Way Day 2023...                Others\n",
            "14         The 10 best Amazon deals to shop this week                Others\n",
            "15  The 2024 presidential alternative many voters ...                Others\n"
          ]
        }
      ]
    },
    {
      "cell_type": "code",
      "source": [
        "# Count the occurrences of each manual classification\n",
        "manual_classification_counts = df['manual_classification'].value_counts()\n",
        "\n",
        "# Create a bar plot\n",
        "plt.figure(figsize=(10, 6))\n",
        "plt.bar(manual_classification_counts.index, manual_classification_counts.values)\n",
        "plt.xlabel(\"Manual Classification\")\n",
        "plt.ylabel(\"Number of Articles\")\n",
        "plt.title(\"Distribution of Manually Classified Articles\")\n",
        "plt.xticks(rotation=45, ha='right')  # Rotate x-axis labels for better readability\n",
        "plt.tight_layout()  # Adjust layout to prevent labels from overlapping\n",
        "plt.show()"
      ],
      "metadata": {
        "colab": {
          "base_uri": "https://localhost:8080/",
          "height": 607
        },
        "id": "qdGHnCyyPEJn",
        "outputId": "876b9b13-88da-4d6d-aeb9-d5f77a5ccd06"
      },
      "execution_count": null,
      "outputs": [
        {
          "output_type": "display_data",
          "data": {
            "text/plain": [
              "<Figure size 1000x600 with 1 Axes>"
            ],
            "image/png": "[encoded data removed]"
          },
          "metadata": {}
        }
      ]
    },
    {
      "cell_type": "code",
      "source": [
        "# Optionally, save the updated DataFrame to a new CSV file\n",
        "df.to_csv('news_articles_with_manual_classification.csv', index=False)\n",
        "print(\"Updated CSV file saved as 'news_articles_with_manual_classification.csv'\")"
      ],
      "metadata": {
        "colab": {
          "base_uri": "https://localhost:8080/"
        },
        "id": "t6qOJ6EMPBJv",
        "outputId": "3a015637-eab7-455b-bf0b-2b65ed463948"
      },
      "execution_count": null,
      "outputs": [
        {
          "output_type": "stream",
          "name": "stdout",
          "text": [
            "Updated CSV file saved as 'news_articles_with_manual_classification.csv'\n"
          ]
        }
      ]
    },
    {
      "cell_type": "markdown",
      "source": [
        "# VERDICT: AFTER CHECKING UP THE DATABASE WE FOUND LLM APPROACH WORKS BEST EXCEPT FOR 0.0714% of SPECIAL CASES WHERE MANUAL KEYWORD CLASSIFICATION PROVED TO WORK BEST."
      ],
      "metadata": {
        "id": "SpArcbiePQtn"
      }
    }
  ]
}